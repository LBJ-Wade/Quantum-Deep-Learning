{
 "cells": [
  {
   "cell_type": "code",
   "execution_count": 1,
   "metadata": {},
   "outputs": [],
   "source": [
    "# -- coding: utf-8 --\n",
    "# This code is part of Qiskit.\n",
    "#\n",
    "# (C) Copyright IBM 2019.\n",
    "#\n",
    "# This code is licensed under the Apache License, Version 2.0. You may\n",
    "# obtain a copy of this license in the LICENSE.txt file in the root directory\n",
    "# of this source tree or at http://www.apache.org/licenses/LICENSE-2.0.\n",
    "#\n",
    "# Any modifications or derivative works of this code must retain this\n",
    "# copyright notice, and modified files need to carry a notice indicating\n",
    "# that they have been altered from the originals."
   ]
  },
  {
   "cell_type": "code",
   "execution_count": 2,
   "metadata": {},
   "outputs": [],
   "source": [
    "import torch\n",
    "from torch.autograd import Function\n",
    "import torch.optim as optim"
   ]
  },
  {
   "cell_type": "code",
   "execution_count": 3,
   "metadata": {},
   "outputs": [],
   "source": [
    "from qiskit import QuantumRegister,QuantumCircuit,ClassicalRegister,execute\n",
    "from qiskit.circuit import Parameter\n",
    "from qiskit import Aer\n",
    "import numpy as np"
   ]
  },
  {
   "cell_type": "code",
   "execution_count": 4,
   "metadata": {},
   "outputs": [],
   "source": [
    "from tqdm import tqdm"
   ]
  },
  {
   "cell_type": "code",
   "execution_count": 5,
   "metadata": {},
   "outputs": [],
   "source": [
    "from matplotlib import pyplot as plt\n",
    "%matplotlib inline"
   ]
  },
  {
   "cell_type": "code",
   "execution_count": 6,
   "metadata": {},
   "outputs": [],
   "source": [
    "np.random.seed = 42"
   ]
  },
  {
   "cell_type": "markdown",
   "metadata": {},
   "source": [
    "Define function to translate Q-Circuit parameters from pytorch back to QISKIT"
   ]
  },
  {
   "cell_type": "code",
   "execution_count": 7,
   "metadata": {},
   "outputs": [],
   "source": [
    "def to_numbers(tensor_list):\n",
    "    num_list = []\n",
    "    for tensor in tensor_list:\n",
    "        num_list += [tensor.item()]\n",
    "    return num_list"
   ]
  },
  {
   "cell_type": "markdown",
   "metadata": {},
   "source": [
    "## QiskitCircuit()\n",
    "\n",
    "Parameters have to be defined according to the circuit. In this case we have a unitary U3 with 3 parameters, which we call Theta, Phi and Lambda.\n",
    "The paramter `shots` always has to be defined. It gives the number of measurements done on the simulator or on the hardware to do the averages for the expectation values.\n",
    "\n",
    "### create_circuit()\n",
    "Define a quantum cirquit in QISKIT language\n",
    "\n",
    "### N_qubit_expectation_Z()\n",
    "This is a function that allows to take the measurements and translate them to Z-expectation values for every single qubit.\n",
    "\n",
    "### bind( parameters )\n",
    "Takes the Neural Network parameters and puts them into a format that can be fed into the QIKSIT unitaries.\n",
    "\n",
    "To generalze this code we would have to write a function that replaces the line `self.circuit.data[2][0]._params`.\n",
    "Because the `self.circuit.data` is a list of all the gates  of the circuit. And the indices direct to the correct gate, where the parameters have to go.\n",
    "\n",
    "At some point we would need a better scheme here.\n",
    "\n",
    "### run( parameters )\n",
    "This function puts the circuit with the given parameters on a quantum simulater or hardware and returns the measurements of every qubit in Z-basis"
   ]
  },
  {
   "cell_type": "code",
   "execution_count": 8,
   "metadata": {
    "ExecuteTime": {
     "end_time": "2019-10-01T16:09:30.598730Z",
     "start_time": "2019-10-01T16:09:30.567861Z"
    }
   },
   "outputs": [],
   "source": [
    "class QiskitCircuit():\n",
    "    \n",
    "    def __init__(self,shots):\n",
    "        self.theta = Parameter('Theta')\n",
    "        self.phi = Parameter('Phi')\n",
    "        self.lam = Parameter('Lambda')\n",
    "        self.shots = shots\n",
    "        \n",
    "        def create_circuit():\n",
    "            qr = QuantumRegister(1,'q')\n",
    "            cr = ClassicalRegister(1,'c')\n",
    "            ckt = QuantumCircuit(qr,cr)\n",
    "            ckt.h(qr[0])\n",
    "            ckt.barrier()\n",
    "            ckt.u3(self.theta,self.phi,self.lam,qr[0])\n",
    "            ckt.barrier()\n",
    "            ckt.measure(qr,cr)\n",
    "            return ckt\n",
    "        \n",
    "        self.circuit = create_circuit()\n",
    "        \n",
    "    def N_qubit_expectation_Z(self,counts, shots, nr_qubits):\n",
    "        expects = np.zeros(nr_qubits)\n",
    "        for key in counts.keys():\n",
    "            perc = counts[key]/shots\n",
    "            check = np.array([(float(key[i])-1/2)*2*perc for i in range(nr_qubits)])\n",
    "            expects += check   \n",
    "        return expects    \n",
    "    \n",
    "    def bind(self, parameters):\n",
    "        [self.theta,self.phi,self.lam] = to_numbers(parameters)\n",
    "        self.circuit.data[2][0]._params = to_numbers(parameters)\n",
    "    \n",
    "    def run(self, i):\n",
    "        self.bind(i)\n",
    "        \n",
    "        backend = Aer.get_backend('qasm_simulator')\n",
    "        job_sim = execute(self.circuit,backend,shots=self.shots)\n",
    "        result_sim = job_sim.result()\n",
    "        counts = result_sim.get_counts(self.circuit)\n",
    "        return self.N_qubit_expectation_Z(counts,self.shots,1)"
   ]
  },
  {
   "cell_type": "markdown",
   "metadata": {},
   "source": [
    "### TorchCircuit()\n",
    "\n",
    "A pytorch layer always has two functions. One for the forward pass and one for the backward pass. The forward pass simply takes the Quantum Circuits variational parameters from the previous pytorch layer and runs the circuit on the defined hardware (defined in `QiskitCircuit.run()`) and returns the measurements from the quantum hardware.\n",
    "These measurements will be the inputs of the next pytorch layer.\n",
    "\n",
    "The backward pass returns the gradients of the quantum circuit. In this case here it is finite difference.\n",
    "\n",
    "the `forward_tensor` is saved from the forward pass. So we just have to do one evaluation of the Q-Circuit in the backpass for the finite difference.\n",
    "\n",
    "The `gradient` variable here is as well hard coded to 3 parameters. This should be updated in the future and made more general.\n",
    "\n",
    "The loop `for k in range(len(input_numbers)):` goes through all the parameters (in this case 3), and shifts them by a small $\\epsilon$. Then it runs the circuit and takes the diefferences of the ouput for the parameters $\\Theta$ and $\\Theta + \\epsilon$. This is the finite difference. "
   ]
  },
  {
   "cell_type": "code",
   "execution_count": 126,
   "metadata": {},
   "outputs": [],
   "source": [
    "class TorchCircuit(Function):    \n",
    "\n",
    "    @staticmethod\n",
    "    def forward(ctx, i):\n",
    "        if not hasattr(ctx, 'QiskitCirc'):\n",
    "            ctx.QiskitCirc = QiskitCircuit(shots=10000)\n",
    "            \n",
    "        exp_value = ctx.QiskitCirc.run(i[0])\n",
    "        \n",
    "        result = torch.tensor([exp_value])\n",
    "        \n",
    "        ctx.save_for_backward(result, i)\n",
    "        \n",
    "        return result\n",
    "    \n",
    "    @staticmethod\n",
    "    def backward(ctx, grad_output):\n",
    "        eps = 0.01\n",
    "        \n",
    "        forward_tensor, i = ctx.saved_tensors\n",
    "        print(i)\n",
    "        input_numbers = to_numbers(i[0])\n",
    "        print(input_numbers)\n",
    "        gradient = [0,0,0]\n",
    "        \n",
    "        for k in range(len(input_numbers)):\n",
    "            input_eps = input_numbers\n",
    "            input_eps[k] = input_numbers[k] + eps\n",
    "            exp_value = ctx.QiskitCirc.run(torch.tensor(input_eps))[0]\n",
    "            gradient_result = (exp_value - forward_tensor[0][0].item())#/eps\n",
    "            gradient[k] = gradient_result\n",
    "            \n",
    "#         print(gradient)\n",
    "        result = torch.tensor([gradient])\n",
    "#         print(result)\n",
    "\n",
    "        return result.float() * grad_output.float()"
   ]
  },
  {
   "cell_type": "code",
   "execution_count": 127,
   "metadata": {},
   "outputs": [
    {
     "name": "stdout",
     "output_type": "stream",
     "text": [
      "tensor([[-0.0122, -0.0254, -0.0168]])\n"
     ]
    }
   ],
   "source": [
    "x = torch.tensor([[np.pi/4, np.pi/4, np.pi/4]], requires_grad=True)\n",
    "# x = torch.tensor([[0.0, 0.0, 0.0]], requires_grad=True)\n",
    "\n",
    "qc = TorchCircuit.apply\n",
    "y1 = qc(x)\n",
    "y1.backward()\n",
    "print(x.grad)"
   ]
  },
  {
   "cell_type": "markdown",
   "metadata": {},
   "source": [
    "### Test the Quantum Circuit separately\n",
    "\n",
    "This example is simply to test the QC with a pytorch optimizer\n",
    "\n",
    "We define a cost function and a target expectation value (here -1). The cost is the square distance from the target value.\n",
    "\n",
    "`x` is the initialization of the parameters. Here again, this was hard coded such that every angle starts at $\\pi / 4$.\n",
    "\n",
    "The rest is standard pytorch optimization"
   ]
  },
  {
   "cell_type": "code",
   "execution_count": 129,
   "metadata": {},
   "outputs": [
    {
     "name": "stderr",
     "output_type": "stream",
     "text": [
      "100%|████████████████████████████████████████████████████████████████████████████████| 100/100 [00:07<00:00, 12.67it/s]\n"
     ]
    },
    {
     "data": {
      "text/plain": [
       "[<matplotlib.lines.Line2D at 0x2203f842898>]"
      ]
     },
     "execution_count": 129,
     "metadata": {},
     "output_type": "execute_result"
    },
    {
     "data": {
      "image/png": "[encoded data removed]",
      "text/plain": [
       "<Figure size 432x288 with 1 Axes>"
      ]
     },
     "metadata": {},
     "output_type": "display_data"
    }
   ],
   "source": [
    "qc = TorchCircuit.apply\n",
    "\n",
    "def cost(x):\n",
    "    target = -1\n",
    "    expval = qc(x)\n",
    "    return torch.abs(qc(x) - target) ** 2, expval\n",
    "\n",
    "x = torch.tensor([[np.pi/4, np.pi/4, np.pi/4]], requires_grad=True)\n",
    "opt = torch.optim.Adam([x], lr=0.1)\n",
    "\n",
    "num_epoch = 100\n",
    "\n",
    "loss_list = []\n",
    "expval_list = []\n",
    "\n",
    "for i in tqdm(range(num_epoch)):\n",
    "# for i in range(num_epoch):\n",
    "    opt.zero_grad()\n",
    "    loss, expval = cost(x)\n",
    "    loss.backward()\n",
    "    opt.step()\n",
    "    loss_list.append(loss.item())\n",
    "    expval_list.append(expval.item())\n",
    "#     print(loss.item())\n",
    "\n",
    "plt.plot(loss_list)\n",
    "    \n",
    "# print(circuit(phi, theta))\n",
    "# print(cost(x))"
   ]
  },
  {
   "cell_type": "markdown",
   "metadata": {},
   "source": [
    "### MNIST in pytorch"
   ]
  },
  {
   "cell_type": "code",
   "execution_count": 115,
   "metadata": {},
   "outputs": [],
   "source": [
    "import torch\n",
    "import torch.nn as nn\n",
    "import torch.nn.functional as F\n",
    "import torch.optim as optim"
   ]
  },
  {
   "cell_type": "markdown",
   "metadata": {},
   "source": [
    "### Load MNIST\n",
    "\n",
    "In this code we can not handle batches yet.\n",
    "This should be implemented as well"
   ]
  },
  {
   "cell_type": "code",
   "execution_count": 102,
   "metadata": {},
   "outputs": [
    {
     "name": "stdout",
     "output_type": "stream",
     "text": [
      "Dataset MNIST\n",
      "    Number of datapoints: 40\n",
      "    Root location: ./data\n",
      "    Split: Train\n",
      "    StandardTransform\n",
      "Transform: Compose(\n",
      "               ToTensor()\n",
      "           )\n"
     ]
    }
   ],
   "source": [
    "import numpy as np\n",
    "import torchvision\n",
    "from torchvision import datasets, transforms\n",
    "\n",
    "batch_size_train = 1\n",
    "batch_size_test = 1\n",
    "learning_rate = 0.01\n",
    "momentum = 0.5\n",
    "log_interval = 10\n",
    "\n",
    "torch.backends.cudnn.enabled = False\n",
    "\n",
    "transform=torchvision.transforms.Compose([\n",
    "                               torchvision.transforms.ToTensor()])\n",
    "\n",
    "mnist_trainset = datasets.MNIST(root='./data', train=True, download=True, transform=transform)\n",
    "\n",
    "labels = mnist_trainset.targets #get labels\n",
    "labels = labels.numpy()\n",
    "idx1 = np.where(labels == 0) #search all zeros\n",
    "idx2 = np.where(labels == 1) # search all ones\n",
    "idx = np.concatenate((idx1[0][0:20],idx2[0][0:20])) # concatenate their indices\n",
    "mnist_trainset.targets = labels[idx] \n",
    "mnist_trainset.data = mnist_trainset.data[idx]\n",
    "\n",
    "print(mnist_trainset)\n",
    "\n",
    "train_loader = torch.utils.data.DataLoader(mnist_trainset, batch_size=batch_size_train, shuffle=True)"
   ]
  },
  {
   "cell_type": "markdown",
   "metadata": {},
   "source": [
    "### Define Neural Network with Q-node\n",
    "\n",
    "This NN is  2 layers of ConvNN and a fully connected layer, with a Q-Node as a classifier."
   ]
  },
  {
   "cell_type": "code",
   "execution_count": 103,
   "metadata": {},
   "outputs": [],
   "source": [
    "class Net(nn.Module):\n",
    "    def __init__(self):\n",
    "        super(Net, self).__init__()\n",
    "        self.conv1 = nn.Conv2d(1, 10, kernel_size=5)\n",
    "        self.conv2 = nn.Conv2d(10, 20, kernel_size=5)\n",
    "        self.conv2_drop = nn.Dropout2d()\n",
    "        self.fc1 = nn.Linear(320, 50)\n",
    "        self.fc2 = nn.Linear(50, 3)\n",
    "\n",
    "    def forward(self, x):\n",
    "        x = F.relu(F.max_pool2d(self.conv1(x), 2))\n",
    "        x = F.relu(F.max_pool2d(self.conv2_drop(self.conv2(x)), 2))\n",
    "        x = x.view(-1, 320)\n",
    "        x = F.relu(self.fc1(x))\n",
    "        x = F.dropout(x, training=self.training)\n",
    "        x = self.fc2(x)\n",
    "#         return F.softmax(x)\n",
    "        x = np.pi*F.tanh(x)\n",
    "        x = qc(x) # This is the q node\n",
    "        x = (x+1)/2 # Translate expectation values [-1,1] to labels [0,1]\n",
    "        x = torch.cat((x, 1-x), -1)\n",
    "        return x"
   ]
  },
  {
   "cell_type": "code",
   "execution_count": 104,
   "metadata": {},
   "outputs": [],
   "source": [
    "network = Net()\n",
    "optimizer = optim.SGD(network.parameters(), lr=learning_rate,\n",
    "                      momentum=momentum)\n",
    "\n",
    "# optimizer = optim.Adam(network.parameters(), lr=learning_rate)"
   ]
  },
  {
   "cell_type": "markdown",
   "metadata": {},
   "source": [
    "### Training loop\n",
    "\n",
    "standard pytorch training loop.\n",
    "- Load data from train_loader. Which is this case a single example each step.\n",
    "- Forward pass through NN\n",
    "- Caluculate loss\n",
    "- Backprop and optimize"
   ]
  },
  {
   "cell_type": "code",
   "execution_count": 110,
   "metadata": {},
   "outputs": [
    {
     "name": "stderr",
     "output_type": "stream",
     "text": [
      "C:\\Users\\Edward\\Anaconda3\\lib\\site-packages\\torch\\nn\\functional.py:1340: UserWarning: nn.functional.tanh is deprecated. Use torch.tanh instead.\n",
      "  warnings.warn(\"nn.functional.tanh is deprecated. Use torch.tanh instead.\")\n"
     ]
    },
    {
     "name": "stdout",
     "output_type": "stream",
     "text": [
      "[0.00720000000000004, 0.01440000000000008, 0.010800000000000087]\n",
      "[0.007199999999999929, -0.014600000000000057, 0.0]\n",
      "[-0.007199999999999929, -0.0005999999999999894, -0.007199999999999929]\n",
      "[0.0007999999999999674, 0.007800000000000029, -0.010599999999999943]\n",
      "[0.030200000000000005, 0.023200000000000054, 0.03620000000000001]\n",
      "[0.02560000000000001, 0.011799999999999977, 0.015399999999999914]\n",
      "[0.0006000000000000449, 0.007599999999999996, 0.004800000000000082]\n",
      "[0.00660000000000005, 0.0022000000000000908, -0.006399999999999961]\n",
      "[0.024799999999999933, 0.018000000000000016, 0.016000000000000014]\n",
      "[-0.0010000000000000564, 0.014999999999999958, 0.006599999999999939]\n",
      "[0.02699999999999997, 0.03420000000000001, -0.008600000000000052]\n",
      "[0.024799999999999933, 0.013600000000000001, 0.029799999999999993]\n",
      "[-0.0005999999999999894, 0.017400000000000027, 0.022999999999999965]\n",
      "[0.00500000000000006, 0.0014000000000000679, 0.0]\n",
      "[0.012800000000000089, 0.023200000000000054, 0.020800000000000096]\n",
      "[0.011199999999999932, 0.015400000000000025, 0.012599999999999945]\n",
      "[0.028200000000000003, 0.023200000000000054, 0.020000000000000018]\n",
      "[0.025200000000000056, 0.032799999999999996, 0.030399999999999983]\n",
      "[-0.0023999999999999577, -0.00039999999999995595, 0.0023999999999999577]\n",
      "[0.003400000000000014, 0.002999999999999947, 0.017799999999999983]\n",
      "[-0.018400000000000027, -0.0052000000000000934, 0.007199999999999929]\n",
      "[0.014400000000000024, 0.010599999999999998, 0.016600000000000004]\n",
      "[0.01940000000000003, 0.00280000000000008, 0.03820000000000001]\n",
      "[0.011799999999999922, -0.003000000000000058, 0.005799999999999916]\n",
      "[0.0009999999999999454, 0.019999999999999962, 0.01799999999999996]\n",
      "[0.01419999999999999, 0.012799999999999978, 0.012999999999999956]\n",
      "[0.0023999999999999577, -0.0024000000000000132, 0.015800000000000036]\n",
      "[0.005799999999999972, -0.008600000000000108, 0.012599999999999945]\n",
      "[0.013999999999999901, -0.014000000000000012, -0.01640000000000008]\n",
      "[-0.0010000000000000564, -0.009000000000000064, 0.008399999999999963]\n",
      "[0.026000000000000023, 0.026599999999999957, 0.008199999999999985]\n",
      "[0.0398, 0.028799999999999937, 0.03639999999999999]\n",
      "[0.006400000000000017, 0.0032000000000000917, 0.008599999999999997]\n",
      "[0.011400000000000077, -0.013999999999999957, -0.0045999999999999375]\n",
      "[-0.010799999999999976, -0.023599999999999954, 0.009799999999999975]\n",
      "[0.004799999999999971, 0.0043999999999999595, 0.009800000000000031]\n",
      "[0.025199999999999945, 0.014399999999999968, 0.028799999999999937]\n",
      "[-0.008000000000000007, -0.021200000000000052, 0.0011999999999999234]\n",
      "[0.029399999999999926, 0.017399999999999916, 0.023199999999999943]\n",
      "[-0.011800000000000033, -0.008599999999999941, -0.0018000000000000238]\n",
      "-0.7027\n",
      "[-0.00720000000000004, 0.005199999999999927, -0.013600000000000056]\n",
      "[0.012399999999999967, -0.0041999999999999815, 0.016599999999999948]\n",
      "[-0.0011999999999999234, 0.00280000000000008, 0.003599999999999992]\n",
      "[-0.005200000000000038, -0.0020000000000000018, -0.01639999999999997]\n",
      "[-0.004799999999999971, -0.0043999999999999595, -0.018600000000000005]\n",
      "[-0.0005999999999999339, -0.009800000000000031, -0.008199999999999985]\n",
      "[-0.0005999999999999894, 0.0043999999999999595, 0.006799999999999917]\n",
      "[0.022399999999999975, 0.01699999999999996, 0.012999999999999956]\n",
      "[0.012799999999999978, -0.010199999999999987, 0.006799999999999973]\n",
      "[0.018600000000000005, 0.04600000000000004, 0.020199999999999996]\n",
      "[0.0033999999999999586, -0.006800000000000084, 0.00919999999999993]\n",
      "[-0.01919999999999994, -0.016600000000000004, -0.013399999999999912]\n",
      "[0.006599999999999939, 0.02119999999999994, 0.00019999999999997797]\n",
      "[0.007400000000000018, 0.009000000000000064, 0.0016000000000000458]\n",
      "[0.016599999999999948, 0.006199999999999983, 0.013599999999999834]\n",
      "[0.012599999999999945, -0.010199999999999987, -0.010399999999999965]\n",
      "[0.024999999999999967, 0.03620000000000001, 0.00019999999999997797]\n",
      "[0.010000000000000009, 0.0038000000000000256, 0.021200000000000052]\n",
      "[0.015799999999999925, 0.03579999999999994, 0.011599999999999944]\n",
      "[0.016000000000000014, -0.006199999999999983, 0.0]\n",
      "[-0.025399999999999978, -0.005199999999999927, 0.0010000000000000564]\n",
      "[0.007000000000000062, -0.006799999999999917, 0.016400000000000026]\n",
      "[0.0041999999999999815, 0.007999999999999952, -0.014000000000000012]\n",
      "[0.008199999999999985, -0.00820000000000004, 0.012399999999999967]\n",
      "[0.03179999999999983, 0.032399999999999984, 0.02159999999999984]\n",
      "[0.015400000000000025, -0.00940000000000002, 0.01679999999999998]\n",
      "[0.02420000000000011, 0.006000000000000005, 0.028800000000000103]\n",
      "[0.01200000000000001, 0.0005999999999999894, 0.010000000000000009]\n",
      "[0.010000000000000009, 0.010400000000000076, 0.01920000000000005]\n",
      "[-0.01419999999999999, -0.00919999999999993, -0.0020000000000000018]\n",
      "[0.011800000000000033, 0.003400000000000014, 0.007800000000000029]\n",
      "[-0.002999999999999947, -0.0007999999999999674, 0.007600000000000051]\n",
      "[-0.012399999999999967, 0.02200000000000002, 0.0034000000000000696]\n",
      "[0.0040000000000000036, 0.011400000000000021, 0.008000000000000007]\n",
      "[0.0010000000000000564, -0.0007999999999999674, 0.021600000000000064]\n",
      "[-0.0126, 0.0013999999999999013, 0.013999999999999957]\n",
      "[-0.0041999999999999815, -0.009999999999999953, 0.009000000000000064]\n",
      "[0.015800000000000036, -0.002799999999999969, -0.0021999999999999797]\n",
      "[-0.0014000000000000123, -0.002999999999999947, 0.003000000000000058]\n",
      "[0.01679999999999998, 0.00040000000000001146, 0.032399999999999984]\n",
      "-0.38349999999999995\n",
      "[0.013399999999999912, 0.012799999999999978, 0.019999999999999907]\n",
      "[0.009000000000000008, 0.012600000000000056, 0.017400000000000027]\n",
      "[0.029000000000000026, 0.020399999999999974, 0.0116]\n",
      "[-0.0017999999999999683, 0.006599999999999939, -0.009999999999999953]\n",
      "[0.02400000000000002, 0.02699999999999997, 0.015599999999999947]\n",
      "[0.030200000000000005, 0.022599999999999953, 0.010399999999999965]\n",
      "[-0.0010000000000000564, 0.005400000000000016, 0.017400000000000027]\n",
      "[0.016000000000000014, 0.028799999999999937, 0.01859999999999995]\n",
      "[-0.014000000000000012, -0.003399999999999903, 0.00720000000000004]\n",
      "[0.007200000000000095, 0.0036000000000000476, 0.01920000000000005]\n",
      "[0.0030000000000001137, 0.010600000000000165, 0.005800000000000027]\n",
      "[0.0024000000000000132, -0.014000000000000012, 0.011599999999999944]\n",
      "[0.004599999999999993, 0.005800000000000027, 0.024999999999999967]\n",
      "[0.023799999999999988, 0.026999999999999913, 0.01419999999999999]\n",
      "[0.004400000000000015, 0.012999999999999956, 0.0040000000000000036]\n",
      "[-0.002799999999999969, 0.007000000000000062, 0.013600000000000001]\n",
      "[0.01739999999999997, 0.025799999999999934, 0.0007999999999999674]\n",
      "[0.008599999999999997, -0.006199999999999983, -0.00599999999999995]\n",
      "[-0.00539999999999996, 0.004800000000000082, 0.013000000000000067]\n",
      "[0.0262, 0.005800000000000027, 0.003200000000000036]\n",
      "[0.014000000000000012, 0.018199999999999994, 0.0132000000000001]\n",
      "[0.01919999999999994, 0.02560000000000001, 0.0398]\n",
      "[0.01640000000000008, 0.01940000000000003, 0.015600000000000003]\n",
      "[0.023400000000000032, 0.01679999999999998, 0.01940000000000003]\n",
      "[0.027199999999999946, 0.01679999999999998, 0.01959999999999995]\n",
      "[0.009400000000000075, -0.012199999999999989, 0.006400000000000017]\n",
      "[0.008400000000000019, 0.007800000000000029, 0.013400000000000023]\n",
      "[-0.000200000000000089, 0.00039999999999995595, 0.0005999999999999894]\n",
      "[0.019399999999999973, 0.0033999999999999586, 0.006799999999999973]\n",
      "[0.009399999999999964, -0.007599999999999996, -0.0017999999999999683]\n",
      "[-0.017799999999999983, -0.003000000000000058, -0.0015999999999999903]\n",
      "[0.009599999999999942, 0.020999999999999963, 0.022399999999999975]\n",
      "[0.008000000000000007, 0.01720000000000005, 0.011200000000000043]\n",
      "[0.014999999999999902, -0.006800000000000084, 0.01599999999999996]\n",
      "[0.01479999999999998, 0.0034000000000000696, 0.01679999999999998]\n",
      "[-0.026800000000000046, -0.011000000000000065, -0.01920000000000005]\n",
      "[0.008799999999999975, 0.026599999999999957, 0.006399999999999961]\n"
     ]
    },
    {
     "ename": "KeyboardInterrupt",
     "evalue": "",
     "output_type": "error",
     "traceback": [
      "\u001b[1;31m---------------------------------------------------------------------------\u001b[0m",
      "\u001b[1;31mKeyboardInterrupt\u001b[0m                         Traceback (most recent call last)",
      "\u001b[1;32m<ipython-input-110-ec2b1ff35d76>\u001b[0m in \u001b[0;36m<module>\u001b[1;34m()\u001b[0m\n\u001b[0;32m     10\u001b[0m \u001b[1;31m#         print(output)\u001b[0m\u001b[1;33m\u001b[0m\u001b[1;33m\u001b[0m\u001b[0m\n\u001b[0;32m     11\u001b[0m \u001b[1;31m#         print(output[0][1].item(), target.item())\u001b[0m\u001b[1;33m\u001b[0m\u001b[1;33m\u001b[0m\u001b[0m\n\u001b[1;32m---> 12\u001b[1;33m         \u001b[0mloss\u001b[0m\u001b[1;33m.\u001b[0m\u001b[0mbackward\u001b[0m\u001b[1;33m(\u001b[0m\u001b[1;33m)\u001b[0m\u001b[1;33m\u001b[0m\u001b[0m\n\u001b[0m\u001b[0;32m     13\u001b[0m         \u001b[0moptimizer\u001b[0m\u001b[1;33m.\u001b[0m\u001b[0mstep\u001b[0m\u001b[1;33m(\u001b[0m\u001b[1;33m)\u001b[0m\u001b[1;33m\u001b[0m\u001b[0m\n\u001b[0;32m     14\u001b[0m         \u001b[0mtotal_loss\u001b[0m\u001b[1;33m.\u001b[0m\u001b[0mappend\u001b[0m\u001b[1;33m(\u001b[0m\u001b[0mloss\u001b[0m\u001b[1;33m.\u001b[0m\u001b[0mitem\u001b[0m\u001b[1;33m(\u001b[0m\u001b[1;33m)\u001b[0m\u001b[1;33m)\u001b[0m\u001b[1;33m\u001b[0m\u001b[0m\n",
      "\u001b[1;32m~\\Anaconda3\\lib\\site-packages\\torch\\tensor.py\u001b[0m in \u001b[0;36mbackward\u001b[1;34m(self, gradient, retain_graph, create_graph)\u001b[0m\n\u001b[0;32m    193\u001b[0m                 \u001b[0mproducts\u001b[0m\u001b[1;33m.\u001b[0m \u001b[0mDefaults\u001b[0m \u001b[0mto\u001b[0m\u001b[0;31m \u001b[0m\u001b[0;31m`\u001b[0m\u001b[0;31m`\u001b[0m\u001b[1;32mFalse\u001b[0m\u001b[0;31m`\u001b[0m\u001b[0;31m`\u001b[0m\u001b[1;33m.\u001b[0m\u001b[1;33m\u001b[0m\u001b[0m\n\u001b[0;32m    194\u001b[0m         \"\"\"\n\u001b[1;32m--> 195\u001b[1;33m         \u001b[0mtorch\u001b[0m\u001b[1;33m.\u001b[0m\u001b[0mautograd\u001b[0m\u001b[1;33m.\u001b[0m\u001b[0mbackward\u001b[0m\u001b[1;33m(\u001b[0m\u001b[0mself\u001b[0m\u001b[1;33m,\u001b[0m \u001b[0mgradient\u001b[0m\u001b[1;33m,\u001b[0m \u001b[0mretain_graph\u001b[0m\u001b[1;33m,\u001b[0m \u001b[0mcreate_graph\u001b[0m\u001b[1;33m)\u001b[0m\u001b[1;33m\u001b[0m\u001b[0m\n\u001b[0m\u001b[0;32m    196\u001b[0m \u001b[1;33m\u001b[0m\u001b[0m\n\u001b[0;32m    197\u001b[0m     \u001b[1;32mdef\u001b[0m \u001b[0mregister_hook\u001b[0m\u001b[1;33m(\u001b[0m\u001b[0mself\u001b[0m\u001b[1;33m,\u001b[0m \u001b[0mhook\u001b[0m\u001b[1;33m)\u001b[0m\u001b[1;33m:\u001b[0m\u001b[1;33m\u001b[0m\u001b[0m\n",
      "\u001b[1;32m~\\Anaconda3\\lib\\site-packages\\torch\\autograd\\__init__.py\u001b[0m in \u001b[0;36mbackward\u001b[1;34m(tensors, grad_tensors, retain_graph, create_graph, grad_variables)\u001b[0m\n\u001b[0;32m     97\u001b[0m     Variable._execution_engine.run_backward(\n\u001b[0;32m     98\u001b[0m         \u001b[0mtensors\u001b[0m\u001b[1;33m,\u001b[0m \u001b[0mgrad_tensors\u001b[0m\u001b[1;33m,\u001b[0m \u001b[0mretain_graph\u001b[0m\u001b[1;33m,\u001b[0m \u001b[0mcreate_graph\u001b[0m\u001b[1;33m,\u001b[0m\u001b[1;33m\u001b[0m\u001b[0m\n\u001b[1;32m---> 99\u001b[1;33m         allow_unreachable=True)  # allow_unreachable flag\n\u001b[0m\u001b[0;32m    100\u001b[0m \u001b[1;33m\u001b[0m\u001b[0m\n\u001b[0;32m    101\u001b[0m \u001b[1;33m\u001b[0m\u001b[0m\n",
      "\u001b[1;31mKeyboardInterrupt\u001b[0m: "
     ]
    }
   ],
   "source": [
    "epochs = 10\n",
    "for epoch in range(epochs):\n",
    "    total_loss = []\n",
    "    for batch_idx, (data, target) in enumerate(train_loader):\n",
    "#         print(batch_idx)\n",
    "        optimizer.zero_grad()\n",
    "        output = network(data)\n",
    "        loss = F.nll_loss(output, target)\n",
    "#         loss = F.cross_entropy(output, target)\n",
    "#         print(output)\n",
    "#         print(output[0][1].item(), target.item())\n",
    "        loss.backward()\n",
    "        optimizer.step()\n",
    "        total_loss.append(loss.item())\n",
    "    print(loss.item())"
   ]
  },
  {
   "cell_type": "markdown",
   "metadata": {},
   "source": [
    "### Test accuracy of NN\n",
    "\n",
    "The outcome is not always the same because the prediction is probabilistic."
   ]
  },
  {
   "cell_type": "code",
   "execution_count": null,
   "metadata": {},
   "outputs": [],
   "source": [
    "accuracy = 0\n",
    "number = 0\n",
    "for batch_idx, (data, target) in enumerate(train_loader):\n",
    "    number +=1\n",
    "    output = network(data)\n",
    "    output = (output>0.5).float()\n",
    "    accuracy += (output[0][1].item() == target[0].item())*1\n",
    "    \n",
    "print(\"Accuracy is: {}\".format(accuracy/number))    "
   ]
  },
  {
   "cell_type": "code",
   "execution_count": null,
   "metadata": {},
   "outputs": [],
   "source": []
  }
 ],
 "metadata": {
  "kernelspec": {
   "display_name": "Python 3",
   "language": "python",
   "name": "python3"
  },
  "language_info": {
   "codemirror_mode": {
    "name": "ipython",
    "version": 3
   },
   "file_extension": ".py",
   "mimetype": "text/x-python",
   "name": "python",
   "nbconvert_exporter": "python",
   "pygments_lexer": "ipython3",
   "version": "3.6.5"
  }
 },
 "nbformat": 4,
 "nbformat_minor": 2
}
